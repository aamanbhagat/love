{
  "nbformat": 4,
  "nbformat_minor": 0,
  "metadata": {
    "colab": {
      "name": "Colab_SSH_2_Telegram_By_GrowWithBhupendra_V1.ipynb",
      "private_outputs": true,
      "provenance": []
    },
    "kernelspec": {
      "name": "python3",
      "display_name": "Python 3"
    },
    "language_info": {
      "name": "python"
    },
    "accelerator": "GPU"
  },
  "cells": [
    {
      "cell_type": "code",
      "execution_count": null,
      "metadata": {
        "cellView": "form",
        "id": "FWk67d_xpjEg"
      },
      "outputs": [],
      "source": [
        "#@title **<<--GPU Check**\n",
        "!setterm -foreground blue\n",
        "!nvidia-smi"
      ]
    },
    {
      "cell_type": "code",
      "source": [
        "#@title **SSH Commands Send to Telegram**\n",
        "!pip install telepot --upgrade &> /dev/null\n",
        "import random, string, urllib.request, json, getpass, telepot\n",
        "def ste(use):\n",
        "     token = \"Paste Your Telegram API Token Here\" #@param {type:'string'}\n",
        "     idd = \"Paste Your Telegram Chat ID Here\" #@param {type:'string'}\n",
        "     bot = telepot.Bot(token)\n",
        "     bot.sendMessage(idd,use)\n",
        "#Generate root password\n",
        "\n",
        "password = ''.join(random.choice(string.ascii_letters + string.digits) for i in range(20))\n",
        "\n",
        "#Download ngrok\n",
        "\n",
        "! wget -q -c -nc https://bin.equinox.io/c/4VmDzA7iaHb/ngrok-stable-linux-amd64.zip\n",
        "\n",
        "! unzip -qq -n ngrok-stable-linux-amd64.zip\n",
        "\n",
        "#Setup sshd\n",
        "\n",
        "! apt-get install -qq -o=Dpkg::Use-Pty=0 openssh-server pwgen > /dev/null\n",
        "\n",
        "#Set root password\n",
        "\n",
        "! echo root:$password | chpasswd\n",
        "\n",
        "! mkdir -p /var/run/sshd\n",
        "\n",
        "! echo \"PermitRootLogin yes\" >> /etc/ssh/sshd_config\n",
        "\n",
        "! echo \"PasswordAuthentication yes\" >> /etc/ssh/sshd_config\n",
        "\n",
        "! echo \"LD_LIBRARY_PATH=/usr/lib64-nvidia\" >> /root/.bashrc\n",
        "\n",
        "! echo \"export LD_LIBRARY_PATH\" >> /root/.bashrc\n",
        "\n",
        "#Run sshd\n",
        "\n",
        "get_ipython().system_raw('/usr/sbin/sshd -D &')\n",
        "\n",
        "#Ask token\n",
        "\n",
        "print(\"Copy authtoken from https://dashboard.ngrok.com/auth\")\n",
        "\n",
        "authtoken = \"Ngrok Token Paste Here\" #@param {type:'string'}\n",
        "\n",
        "#Create tunnel\n",
        "\n",
        "get_ipython().system_raw('./ngrok authtoken $authtoken && ./ngrok tcp 22 &')\n",
        "\n",
        "#Get public address and print connect command\n",
        "\n",
        "with urllib.request.urlopen('http://localhost:4040/api/tunnels') as response:\n",
        "\n",
        "  data = json.loads(response.read().decode())\n",
        "\n",
        "  (host, port) = data['tunnels'][0]['public_url'][6:].split(':')\n",
        "\n",
        "  ste(f'ssh -p{port} root@{host}')\n",
        "\n",
        "#Print root password\n",
        "\n",
        "ste(password)"
      ],
      "metadata": {
        "cellView": "form",
        "id": "Ao77qk6ip3oP"
      },
      "execution_count": null,
      "outputs": []
    },
    {
      "cell_type": "code",
      "source": [
        "#@title **Alive Long Time** \n",
        "import time\n",
        "alive = True #@param {type:'boolean'}\n",
        "!\n",
        "temps = 0\n",
        "sec = 3600\n",
        "while(temps < 43200):\n",
        "  if(temps == sec):\n",
        "    sec += 3600\n",
        "    x = (temps/60)/60\n",
        "    print(\"Increase \",x,\" GWB \")\n",
        "  time.sleep(1)\n",
        "  temps += 1"
      ],
      "metadata": {
        "cellView": "form",
        "id": "I4CX4f0eqX9P"
      },
      "execution_count": null,
      "outputs": []
    },
    {
      "cell_type": "code",
      "source": [
        "#@title **@BotFather** **<<-- Copy and paste it on telegram to get Bot Token**\n",
        " "
      ],
      "metadata": {
        "cellView": "form",
        "id": "HPq0SHc9slSm"
      },
      "execution_count": null,
      "outputs": []
    },
    {
      "cell_type": "code",
      "source": [
        "#@title **Note after start @Botfather Create a New Bot And Copy Token from there**\n"
      ],
      "metadata": {
        "cellView": "form",
        "id": "VlTN8aVotWq5"
      },
      "execution_count": null,
      "outputs": []
    },
    {
      "cell_type": "code",
      "source": [
        "#@title **@itpp_myid_bot** **<<--Copy and paste on Telegram to get User ID**\n"
      ],
      "metadata": {
        "cellView": "form",
        "id": "i59QKb2dsGRf"
      },
      "execution_count": null,
      "outputs": []
    },
    {
      "cell_type": "code",
      "source": [
        "#@title **Ngrok Token website--> https://ngrok.com/**\n"
      ],
      "metadata": {
        "cellView": "form",
        "id": "mWYd7uDds-dW"
      },
      "execution_count": null,
      "outputs": []
    }
  ]
}