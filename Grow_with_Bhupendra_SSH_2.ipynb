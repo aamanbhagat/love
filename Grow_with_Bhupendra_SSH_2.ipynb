{
  "nbformat": 4,
  "nbformat_minor": 0,
  "metadata": {
    "colab": {
      "name": "Grow_with_Bhupendra_SSH_2.ipynb",
      "provenance": []
    },
    "kernelspec": {
      "name": "python3",
      "display_name": "Python 3"
    },
    "language_info": {
      "name": "python"
    }
  },
  "cells": [
    {
      "cell_type": "code",
      "source": [
        "#@title <<---Check GPU\n",
        "! setterm -foreground blue\n",
        "! nvidia-smi"
      ],
      "metadata": {
        "cellView": "form",
        "id": "-HdDI5Nu5M8H"
      },
      "execution_count": null,
      "outputs": []
    },
    {
      "cell_type": "code",
      "execution_count": null,
      "metadata": {
        "cellView": "form",
        "id": "7yjb96_-gnWt"
      },
      "outputs": [],
      "source": [
        "#@title **Increase Hours in Colab SSH**\n",
        "!pkill -9 tmate\n",
        "!wget -nc https://github.com/tmate-io/tmate/releases/download/2.4.0/tmate-2.4.0-static-linux-i386.tar.xz &> /dev/null\n",
        "!tar --skip-old-files -xvf tmate-2.4.0-static-linux-i386.tar.xz &> /dev/null\n",
        "!rm -f nohup.out; bash -ic 'nohup ./tmate-2.4.0-static-linux-i386/tmate -S /tmp/tmate.sock new-session -d & disown -a' >/dev/null 2>&1\n",
        "!./tmate-2.4.0-static-linux-i386/tmate -S /tmp/tmate.sock wait tmate-ready\n",
        "!./tmate-2.4.0-static-linux-i386/tmate -S /tmp/tmate.sock display -p \"#{tmate_ssh}\"\n",
        "\n",
        "import time\n",
        "!setterm -foreground green\n",
        "print(\"ㅤㅤㅤㅤㅤㅤㅤㅤㅤㅤㅤㅤㅤㅤㅤㅤㅤㅤㅤㅤㅤㅤ\")\n",
        "print(\"💵💵💵💵💵💵💵💵💵💵💵💵💵💵💵💵💵💵💵💵💵💵\")\n",
        "print(\"⛏︎💵 Increasing Hours 💰...\")\n",
        "print(\"💵💵💵💵💵💵💵💵💵💵💵💵💵💵💵💵💵💵💵💵💵💵\")\n",
        "print(\"ㅤㅤㅤㅤㅤㅤㅤㅤㅤㅤㅤㅤㅤㅤㅤㅤㅤㅤㅤㅤㅤㅤ\")\n",
        "!\n",
        "temps = 0\n",
        "sec = 3600\n",
        "while(temps < 43200):\n",
        "  if(temps == sec):\n",
        "    sec += 3600\n",
        "    x = (temps/60)/60\n",
        "    print(\"⛏︎ Increase \",x,\" Hours...\")\n",
        "  time.sleep(1)\n",
        "  temps += 1"
      ]
    }
  ]
}